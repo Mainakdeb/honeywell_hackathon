{
  "nbformat": 4,
  "nbformat_minor": 0,
  "metadata": {
    "colab": {
      "name": "Surveillance.ipynb",
      "provenance": [],
      "collapsed_sections": [],
      "include_colab_link": true
    },
    "kernelspec": {
      "name": "python3",
      "display_name": "Python 3"
    },
    "accelerator": "GPU"
  },
  "cells": [
    {
      "cell_type": "markdown",
      "metadata": {
        "id": "view-in-github",
        "colab_type": "text"
      },
      "source": [
        "<a href=\"https://colab.research.google.com/github/Mainakdeb/honeywell_hackathon/blob/main/street-vision.ipynb\" target=\"_parent\"><img src=\"https://colab.research.google.com/assets/colab-badge.svg\" alt=\"Open In Colab\"/></a>"
      ]
    },
    {
      "cell_type": "code",
      "metadata": {
        "id": "TjwWHoPkErwV",
        "colab": {
          "base_uri": "https://localhost:8080/"
        },
        "outputId": "ad9f3e4a-b85f-420e-b9cc-cb1953a4544c"
      },
      "source": [
        "!git clone https://github.com/Mainakdeb/honeywell_hackathon.git\n",
        "!mv /content/honeywell_hackathon/* /content/\n",
        "!rm -r /content/honeywell_hackathon/*\n",
        "!bash /content/config/download_weights.sh\n",
        "!pip3 install filterpy pytube sk-video"
      ],
      "execution_count": 1,
      "outputs": [
        {
          "output_type": "stream",
          "text": [
            "Cloning into 'honeywell_hackathon'...\n",
            "remote: Enumerating objects: 28, done.\u001b[K\n",
            "remote: Counting objects: 100% (28/28), done.\u001b[K\n",
            "remote: Compressing objects: 100% (25/25), done.\u001b[K\n",
            "remote: Total 28 (delta 2), reused 24 (delta 1), pack-reused 0\u001b[K\n",
            "Unpacking objects: 100% (28/28), done.\n",
            "rm: cannot remove '/content/honeywell_hackathon/*': No such file or directory\n",
            "--2021-02-25 08:28:28--  https://pjreddie.com/media/files/yolov3.weights\n",
            "Resolving pjreddie.com (pjreddie.com)... 128.208.4.108\n",
            "Connecting to pjreddie.com (pjreddie.com)|128.208.4.108|:443... connected.\n",
            "HTTP request sent, awaiting response... 200 OK\n",
            "Length: 248007048 (237M) [application/octet-stream]\n",
            "Saving to: ‘yolov3.weights’\n",
            "\n",
            "yolov3.weights      100%[===================>] 236.52M   103MB/s    in 2.3s    \n",
            "\n",
            "2021-02-25 08:28:31 (103 MB/s) - ‘yolov3.weights’ saved [248007048/248007048]\n",
            "\n",
            "Collecting filterpy\n",
            "\u001b[?25l  Downloading https://files.pythonhosted.org/packages/f6/1d/ac8914360460fafa1990890259b7fa5ef7ba4cd59014e782e4ab3ab144d8/filterpy-1.4.5.zip (177kB)\n",
            "\u001b[K     |████████████████████████████████| 184kB 8.9MB/s \n",
            "\u001b[?25hCollecting pytube\n",
            "\u001b[?25l  Downloading https://files.pythonhosted.org/packages/a4/a7/a82cf1e3f283953d18cd72862cde6b38ed3568aca347854ea912e5c6f082/pytube-10.5.1-py3-none-any.whl (41kB)\n",
            "\u001b[K     |████████████████████████████████| 51kB 6.9MB/s \n",
            "\u001b[?25hCollecting sk-video\n",
            "\u001b[?25l  Downloading https://files.pythonhosted.org/packages/dd/3f/ce848b8b2062ad1ccf1449094a740c775f6c761339f411e44f1e090f23a7/sk_video-1.1.10-py2.py3-none-any.whl (2.3MB)\n",
            "\u001b[K     |████████████████████████████████| 2.3MB 15.2MB/s \n",
            "\u001b[?25hRequirement already satisfied: numpy in /usr/local/lib/python3.7/dist-packages (from filterpy) (1.19.5)\n",
            "Requirement already satisfied: scipy in /usr/local/lib/python3.7/dist-packages (from filterpy) (1.4.1)\n",
            "Requirement already satisfied: matplotlib in /usr/local/lib/python3.7/dist-packages (from filterpy) (3.2.2)\n",
            "Requirement already satisfied: typing-extensions in /usr/local/lib/python3.7/dist-packages (from pytube) (3.7.4.3)\n",
            "Requirement already satisfied: pyparsing!=2.0.4,!=2.1.2,!=2.1.6,>=2.0.1 in /usr/local/lib/python3.7/dist-packages (from matplotlib->filterpy) (2.4.7)\n",
            "Requirement already satisfied: cycler>=0.10 in /usr/local/lib/python3.7/dist-packages (from matplotlib->filterpy) (0.10.0)\n",
            "Requirement already satisfied: kiwisolver>=1.0.1 in /usr/local/lib/python3.7/dist-packages (from matplotlib->filterpy) (1.3.1)\n",
            "Requirement already satisfied: python-dateutil>=2.1 in /usr/local/lib/python3.7/dist-packages (from matplotlib->filterpy) (2.8.1)\n",
            "Requirement already satisfied: six in /usr/local/lib/python3.7/dist-packages (from cycler>=0.10->matplotlib->filterpy) (1.15.0)\n",
            "Building wheels for collected packages: filterpy\n",
            "  Building wheel for filterpy (setup.py) ... \u001b[?25l\u001b[?25hdone\n",
            "  Created wheel for filterpy: filename=filterpy-1.4.5-cp37-none-any.whl size=110452 sha256=419063e6fade20433d45f366aae96c1e81916b2567e505d3d45f9a6fb18b3949\n",
            "  Stored in directory: /root/.cache/pip/wheels/c3/0c/dd/e92392c3f38a41371602d99fc77d6c1d42aadbf0c6afccdd02\n",
            "Successfully built filterpy\n",
            "Installing collected packages: filterpy, pytube, sk-video\n",
            "Successfully installed filterpy-1.4.5 pytube-10.5.1 sk-video-1.1.10\n"
          ],
          "name": "stdout"
        }
      ]
    },
    {
      "cell_type": "code",
      "metadata": {
        "id": "xrIaCOUaex3t",
        "colab": {
          "base_uri": "https://localhost:8080/"
        },
        "outputId": "f48dabec-2f98-4f6a-c0dd-2d77daf953e5"
      },
      "source": [
        "from models import *\n",
        "from utils import *\n",
        "from sort import *\n",
        "from IPython.display import HTML\n",
        "from base64 import b64encode\n",
        "import os, sys, time, datetime, random\n",
        "import torch\n",
        "from torch.utils.data import DataLoader\n",
        "from torchvision import datasets, transforms\n",
        "from torch.autograd import Variable\n",
        "import skvideo.io  \n",
        "from pytube import YouTube\n",
        "import matplotlib.pyplot as plt\n",
        "import matplotlib.patches as patches\n",
        "from PIL import Image\n",
        "import cv2\n",
        "from IPython.display import clear_output"
      ],
      "execution_count": 2,
      "outputs": [
        {
          "output_type": "stream",
          "text": [
            "/usr/local/lib/python3.7/dist-packages/sklearn/utils/linear_assignment_.py:22: FutureWarning: The linear_assignment_ module is deprecated in 0.21 and will be removed from 0.23. Use scipy.optimize.linear_sum_assignment instead.\n",
            "  FutureWarning)\n"
          ],
          "name": "stderr"
        }
      ]
    },
    {
      "cell_type": "code",
      "metadata": {
        "id": "WwY2lx7kf92y"
      },
      "source": [
        "def detect_image(img):\n",
        "    # scale and pad image\n",
        "    ratio = min(img_size/img.size[0], img_size/img.size[1])\n",
        "    imw = round(img.size[0] * ratio)\n",
        "    imh = round(img.size[1] * ratio)\n",
        "    img_transforms = transforms.Compose([ transforms.Resize((imh, imw)),\n",
        "         transforms.Pad((max(int((imh-imw)/2),0), max(int((imw-imh)/2),0), max(int((imh-imw)/2),0), max(int((imw-imh)/2),0)),\n",
        "                        (128,128,128)),\n",
        "         transforms.ToTensor(),\n",
        "         ])\n",
        "    # convert image to Tensor\n",
        "    image_tensor = img_transforms(img).float()\n",
        "    image_tensor = image_tensor.unsqueeze_(0)\n",
        "    input_img = Variable(image_tensor.type(Tensor))\n",
        "    # run inference on the model and get detections\n",
        "    with torch.no_grad():\n",
        "        detections = model(input_img)\n",
        "        detections = utils.non_max_suppression(detections, 80, conf_thres, nms_thres)\n",
        "    return detections[0]"
      ],
      "execution_count": 3,
      "outputs": []
    },
    {
      "cell_type": "code",
      "metadata": {
        "id": "QYiKdwE4gz3H"
      },
      "source": [
        "def download_from_yt(video_link):\n",
        "    videopath=YouTube(video_link).streams.first().download(\"yt_downloads/\")\n",
        "    return(videopath)\n",
        "\n",
        "def detector(videopath,num_frames,op_path):\n",
        "  cmap = plt.get_cmap('tab20b')\n",
        "  colors = [cmap(i)[:3] for i in np.linspace(0, 1, 20)]\n",
        "  size = 720*16//9, 720\n",
        "  duration = 2\n",
        "  fps = 25\n",
        "\n",
        "  # initialize Sort object and video capture\n",
        "  vid = cv2.VideoCapture(videopath)\n",
        "  mot_tracker = Sort() \n",
        "  frame_arr = []\n",
        "  #while(True):\n",
        "  for ii in range(num_frames):\n",
        "      ret, frame = vid.read()\n",
        "      frame = cv2.cvtColor(frame, cv2.COLOR_BGR2RGB)\n",
        "      pilimg = Image.fromarray(frame)\n",
        "      detections = detect_image(pilimg)\n",
        "\n",
        "      img = np.array(pilimg)\n",
        "      pad_x = max(img.shape[0] - img.shape[1], 0) * (img_size / max(img.shape))\n",
        "      pad_y = max(img.shape[1] - img.shape[0], 0) * (img_size / max(img.shape))\n",
        "      unpad_h = img_size - pad_y\n",
        "      unpad_w = img_size - pad_x\n",
        "      if detections is not None:\n",
        "          tracked_objects = mot_tracker.update(detections.cpu())\n",
        "\n",
        "          unique_labels = detections[:, -1].cpu().unique()\n",
        "          n_cls_preds = len(unique_labels)\n",
        "          for x1, y1, x2, y2, obj_id, cls_pred in tracked_objects:\n",
        "              box_h = int(((y2 - y1) / unpad_h) * img.shape[0])\n",
        "              box_w = int(((x2 - x1) / unpad_w) * img.shape[1])\n",
        "              y1 = int(((y1 - pad_y // 2) / unpad_h) * img.shape[0])\n",
        "              x1 = int(((x1 - pad_x // 2) / unpad_w) * img.shape[1])\n",
        "\n",
        "              color = colors[int(obj_id) % len(colors)]\n",
        "              color = [i * 255 for i in color]\n",
        "              cls = classes[int(cls_pred)]\n",
        "              cv2.rectangle(frame, (x1, y1), (x1+box_w, y1+box_h), color, 4)\n",
        "              cv2.rectangle(frame, (x1, y1-35), (x1+len(cls)*19+60, y1), color, -1)\n",
        "              cv2.putText(frame, cls + \"-\" + str(int(obj_id)), (x1, y1 - 10), cv2.FONT_HERSHEY_SIMPLEX, 1, (255,255,255), 3)\n",
        "      frame_arr.append(frame)\n",
        "\n",
        "  skvideo.io.vwrite(op_path, frame_arr)\n",
        "  return(op_path)\n",
        "          "
      ],
      "execution_count": 20,
      "outputs": []
    },
    {
      "cell_type": "code",
      "metadata": {
        "id": "s9jeyF9wiuLR"
      },
      "source": [
        "def player(vid_path):\n",
        "  mp4 = open(vid_path,'rb').read()\n",
        "  data_url = \"data:video/mp4;base64,\" + b64encode(mp4).decode()\n",
        "  return HTML(\"\"\"\n",
        "  <video width=400 controls>\n",
        "        <source src=\"%s\" type=\"video/mp4\">\n",
        "  </video>\n",
        "  \"\"\" % data_url)"
      ],
      "execution_count": 21,
      "outputs": []
    },
    {
      "cell_type": "code",
      "metadata": {
        "colab": {
          "base_uri": "https://localhost:8080/"
        },
        "id": "iQQ8oLQGf6yA",
        "outputId": "0f71e9da-c554-412f-efe2-615291a2cbc7"
      },
      "source": [
        "# Initialise config paths\n",
        "config_path='/content/config/yolov3.cfg'\n",
        "weights_path='/content/yolov3.weights'\n",
        "class_path='/content/config/coco.names'\n",
        "img_size=416\n",
        "conf_thres=0.8\n",
        "nms_thres=0.4\n",
        "\n",
        "# Load model and weights\n",
        "model = Darknet(config_path, img_size=img_size)\n",
        "model.load_weights(weights_path)\n",
        "model.cuda()\n",
        "model.eval()\n",
        "classes = utils.load_classes(class_path)\n",
        "Tensor = torch.cuda.FloatTensor"
      ],
      "execution_count": 22,
      "outputs": [
        {
          "output_type": "stream",
          "text": [
            "/usr/local/lib/python3.7/dist-packages/torch/nn/_reduction.py:44: UserWarning: size_average and reduce args will be deprecated, please use reduction='mean' instead.\n",
            "  warnings.warn(warning.format(ret))\n"
          ],
          "name": "stderr"
        }
      ]
    },
    {
      "cell_type": "code",
      "metadata": {
        "id": "KNHCVaN0mfZh"
      },
      "source": [
        "video_link = input('Enter the youtube video link: ')\n",
        "local_path=download_from_yt(video_link)\n",
        "output_vid_path=detector(local_path,num_frames=250,op_path=\"output_1.mp4\")\n",
        "player(output_vid_path)\n",
        "#try https://www.youtube.com/watch?v=MNn9qKG2UFI&list=PLcQZGj9lFR7y5WikozDSrdk6UCtAnM9mB&index=2&ab_channel=KarolMajek"
      ],
      "execution_count": null,
      "outputs": []
    },
    {
      "cell_type": "code",
      "metadata": {
        "id": "q1pCuIgcFTRq"
      },
      "source": [
        ""
      ],
      "execution_count": 7,
      "outputs": []
    }
  ]
}