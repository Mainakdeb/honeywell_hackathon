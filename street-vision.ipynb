{
  "nbformat": 4,
  "nbformat_minor": 0,
  "metadata": {
    "colab": {
      "name": "Surveillance.ipynb",
      "provenance": [],
      "collapsed_sections": [],
      "include_colab_link": true
    },
    "kernelspec": {
      "name": "python3",
      "display_name": "Python 3"
    },
    "accelerator": "GPU"
  },
  "cells": [
    {
      "cell_type": "markdown",
      "metadata": {
        "id": "view-in-github",
        "colab_type": "text"
      },
      "source": [
        "<a href=\"https://colab.research.google.com/github/Mainakdeb/honeywell_hackathon/blob/main/street-vision.ipynb\" target=\"_parent\"><img src=\"https://colab.research.google.com/assets/colab-badge.svg\" alt=\"Open In Colab\"/></a>"
      ]
    },
    {
      "cell_type": "code",
      "metadata": {
        "id": "TjwWHoPkErwV",
        "colab": {
          "base_uri": "https://localhost:8080/"
        },
        "outputId": "6e0fd7da-700f-4491-aea7-4a90e3ed1250"
      },
      "source": [
        "!git clone https://github.com/Mainakdeb/honeywell_hackathon.git\n",
        "!mv /content/honeywell_hackathon/* /content/\n",
        "!rm -r /content/honeywell_hackathon/*\n",
        "!bash /content/config/download_weights.sh\n",
        "!pip3 install filterpy pytube sk-video"
      ],
      "execution_count": 134,
      "outputs": [
        {
          "output_type": "stream",
          "text": [
            "fatal: destination path 'honeywell_hackathon' already exists and is not an empty directory.\n",
            "mv: cannot stat '/content/honeywell_hackathon/*': No such file or directory\n",
            "rm: cannot remove '/content/honeywell_hackathon/*': No such file or directory\n",
            "--2021-02-25 09:35:12--  https://pjreddie.com/media/files/yolov3.weights\n",
            "Resolving pjreddie.com (pjreddie.com)... 128.208.4.108\n",
            "Connecting to pjreddie.com (pjreddie.com)|128.208.4.108|:443... connected.\n",
            "HTTP request sent, awaiting response... 200 OK\n",
            "Length: 248007048 (237M) [application/octet-stream]\n",
            "Saving to: ‘yolov3.weights.1’\n",
            "\n",
            "yolov3.weights.1    100%[===================>] 236.52M   101MB/s    in 2.4s    \n",
            "\n",
            "2021-02-25 09:35:14 (101 MB/s) - ‘yolov3.weights.1’ saved [248007048/248007048]\n",
            "\n",
            "Requirement already satisfied: filterpy in /usr/local/lib/python3.7/dist-packages (1.4.5)\n",
            "Requirement already satisfied: pytube in /usr/local/lib/python3.7/dist-packages (10.5.1)\n",
            "Requirement already satisfied: sk-video in /usr/local/lib/python3.7/dist-packages (1.1.10)\n",
            "Requirement already satisfied: matplotlib in /usr/local/lib/python3.7/dist-packages (from filterpy) (3.2.2)\n",
            "Requirement already satisfied: numpy in /usr/local/lib/python3.7/dist-packages (from filterpy) (1.19.5)\n",
            "Requirement already satisfied: scipy in /usr/local/lib/python3.7/dist-packages (from filterpy) (1.4.1)\n",
            "Requirement already satisfied: typing-extensions in /usr/local/lib/python3.7/dist-packages (from pytube) (3.7.4.3)\n",
            "Requirement already satisfied: pyparsing!=2.0.4,!=2.1.2,!=2.1.6,>=2.0.1 in /usr/local/lib/python3.7/dist-packages (from matplotlib->filterpy) (2.4.7)\n",
            "Requirement already satisfied: kiwisolver>=1.0.1 in /usr/local/lib/python3.7/dist-packages (from matplotlib->filterpy) (1.3.1)\n",
            "Requirement already satisfied: cycler>=0.10 in /usr/local/lib/python3.7/dist-packages (from matplotlib->filterpy) (0.10.0)\n",
            "Requirement already satisfied: python-dateutil>=2.1 in /usr/local/lib/python3.7/dist-packages (from matplotlib->filterpy) (2.8.1)\n",
            "Requirement already satisfied: six in /usr/local/lib/python3.7/dist-packages (from cycler>=0.10->matplotlib->filterpy) (1.15.0)\n"
          ],
          "name": "stdout"
        }
      ]
    },
    {
      "cell_type": "code",
      "metadata": {
        "id": "xrIaCOUaex3t"
      },
      "source": [
        "from models import *\n",
        "from utils import *\n",
        "from sort import *\n",
        "from IPython.display import HTML\n",
        "from base64 import b64encode\n",
        "import os, sys, time, datetime, random\n",
        "import torch\n",
        "from torch.utils.data import DataLoader\n",
        "from torchvision import datasets, transforms\n",
        "from torch.autograd import Variable\n",
        "import skvideo.io  \n",
        "from pytube import YouTube\n",
        "import matplotlib.pyplot as plt\n",
        "import matplotlib.patches as patches\n",
        "from PIL import Image\n",
        "import cv2\n",
        "from IPython.display import clear_output\n",
        "import pandas as pd\n",
        "from scipy.signal import lfilter\n",
        "from tqdm.notebook import tnrange, tqdm"
      ],
      "execution_count": 334,
      "outputs": []
    },
    {
      "cell_type": "code",
      "metadata": {
        "colab": {
          "base_uri": "https://localhost:8080/"
        },
        "id": "qhDEpCUvZSSe",
        "outputId": "edbbed90-278e-42fd-d64c-63de1d4c0897"
      },
      "source": [
        "class_df=pd.read_csv(\"/content/config/coco.names\", header=None)\r\n",
        "class_list=class_df[0].to_list()\r\n",
        "#len(class_list)\r\n",
        "print(class_list[0:10])"
      ],
      "execution_count": 468,
      "outputs": [
        {
          "output_type": "stream",
          "text": [
            "['person', 'bicycle', 'car', 'motorbike', 'aeroplane', 'bus', 'train', 'truck', 'boat', 'traffic light']\n"
          ],
          "name": "stdout"
        }
      ]
    },
    {
      "cell_type": "code",
      "metadata": {
        "id": "WwY2lx7kf92y"
      },
      "source": [
        "def detect_image(img):\n",
        "    # scale and pad image\n",
        "    ratio = min(img_size/img.size[0], img_size/img.size[1])\n",
        "    imw = round(img.size[0] * ratio)\n",
        "    imh = round(img.size[1] * ratio)\n",
        "    img_transforms = transforms.Compose([ transforms.Resize((imh, imw)),\n",
        "         transforms.Pad((max(int((imh-imw)/2),0), max(int((imw-imh)/2),0), max(int((imh-imw)/2),0), max(int((imw-imh)/2),0)),\n",
        "                        (128,128,128)),\n",
        "         transforms.ToTensor(),\n",
        "         ])\n",
        "    # convert image to Tensor\n",
        "    image_tensor = img_transforms(img).float()\n",
        "    image_tensor = image_tensor.unsqueeze_(0)\n",
        "    input_img = Variable(image_tensor.type(Tensor))\n",
        "    # run inference on the model and get detections\n",
        "    with torch.no_grad():\n",
        "        detections = model(input_img)\n",
        "        detections = utils.non_max_suppression(detections, 80, conf_thres, nms_thres)\n",
        "    return detections[0]"
      ],
      "execution_count": 470,
      "outputs": []
    },
    {
      "cell_type": "code",
      "metadata": {
        "id": "QYiKdwE4gz3H"
      },
      "source": [
        "def download_from_yt(video_link):\n",
        "    videopath=YouTube(video_link).streams.first().download(\"yt_downloads/\")\n",
        "    return(videopath)\n",
        "def detector(input_video_path, num_frames, save_video, save_video_path, df):\n",
        "  cmap = plt.get_cmap('tab20b')\n",
        "  colors = [cmap(i)[:3] for i in np.linspace(0, 1, 20)]\n",
        "  size = 720*16//9, 720\n",
        "  duration = 2\n",
        "  fps = 25\n",
        "\n",
        "  # initialize Sort object and video capture\n",
        "  vid = cv2.VideoCapture(input_video_path)\n",
        "\n",
        "  if num_frames==-1:\n",
        "    videodata = skvideo.io.vread(input_video_path)\n",
        "    num_frames=videodata.shape[0]\n",
        "\n",
        "  mot_tracker = Sort() \n",
        "  frame_arr=[]\n",
        "  #while(True):\n",
        "  \n",
        "  for ii in tnrange(num_frames):\n",
        "      ret, frame = vid.read()\n",
        "      frame = cv2.cvtColor(frame, cv2.COLOR_BGR2RGB)\n",
        "      pilimg = Image.fromarray(frame)\n",
        "      detections = detect_image(pilimg)\n",
        "      #print(detections)##\n",
        "      img = np.array(pilimg)\n",
        "      pad_x = max(img.shape[0] - img.shape[1], 0) * (img_size / max(img.shape))\n",
        "      pad_y = max(img.shape[1] - img.shape[0], 0) * (img_size / max(img.shape))\n",
        "      unpad_h = img_size - pad_y\n",
        "      unpad_w = img_size - pad_x\n",
        "      unique_obj_ids=[]\n",
        "      unique_obj_labels=[]\n",
        "      if detections is not None:\n",
        "          tracked_objects = mot_tracker.update(detections.cpu())\n",
        "          #rint(tracked_objects)\n",
        "          unique_labels = detections[:, -1].cpu().unique()\n",
        "          #print(unique_labels)##\n",
        "          n_cls_preds = len(unique_labels)\n",
        "          for x1, y1, x2, y2, obj_id, cls_pred in tracked_objects:\n",
        "              box_h = int(((y2 - y1) / unpad_h) * img.shape[0])\n",
        "              box_w = int(((x2 - x1) / unpad_w) * img.shape[1])\n",
        "              y1 = int(((y1 - pad_y // 2) / unpad_h) * img.shape[0])\n",
        "              x1 = int(((x1 - pad_x // 2) / unpad_w) * img.shape[1])\n",
        "\n",
        "              color = colors[int(obj_id) % len(colors)]\n",
        "              color = [i * 255 for i in color]\n",
        "              cls = classes[int(cls_pred)]\n",
        "              cv2.rectangle(frame, (x1, y1), (x1+box_w, y1+box_h), color, 4)\n",
        "              cv2.rectangle(frame, (x1, y1-35), (x1+len(cls)*19+60, y1), color, -1)\n",
        "              cv2.putText(frame, cls  + str(int(obj_id)), (x1, y1 - 10), cv2.FONT_HERSHEY_SIMPLEX, 1, (255,255,255), 3)\n",
        "\n",
        "              unique_obj_ids.append(obj_id)\n",
        "              unique_obj_labels.append(cls_pred)\n",
        "\n",
        "      counts_list=[] #refresh for each frame\n",
        "      for j in range(0,len(df.columns)):\n",
        "          counts_list.append(unique_obj_labels.count(j))\n",
        "\n",
        "      frame_arr.append(frame)\n",
        "      df.loc[len(df)] = counts_list\n",
        "\n",
        "  if save_video:\n",
        "    skvideo.io.vwrite(save_video_path, frame_arr)\n",
        "\n",
        "  return(save_video_path)\n",
        "          "
      ],
      "execution_count": 657,
      "outputs": []
    },
    {
      "cell_type": "code",
      "metadata": {
        "id": "s9jeyF9wiuLR"
      },
      "source": [
        "def player(vid_path):\n",
        "  mp4 = open(vid_path,'rb').read()\n",
        "  data_url = \"data:video/mp4;base64,\" + b64encode(mp4).decode()\n",
        "  return HTML(\"\"\"\n",
        "  <video width=400 controls>\n",
        "        <source src=\"%s\" type=\"video/mp4\">\n",
        "  </video>\n",
        "  \"\"\" % data_url)"
      ],
      "execution_count": 658,
      "outputs": []
    },
    {
      "cell_type": "code",
      "metadata": {
        "colab": {
          "base_uri": "https://localhost:8080/"
        },
        "id": "iQQ8oLQGf6yA",
        "outputId": "72f3d44c-57e2-4235-c50d-309908381da2"
      },
      "source": [
        "# Initialise config paths\n",
        "config_path='/content/config/yolov3.cfg'\n",
        "weights_path='/content/yolov3.weights'\n",
        "class_path='/content/config/coco.names'\n",
        "img_size=416\n",
        "conf_thres=0.8\n",
        "nms_thres=0.4\n",
        "\n",
        "# Load model and weights\n",
        "model = Darknet(config_path, img_size=img_size)\n",
        "model.load_weights(weights_path)\n",
        "model.cuda()\n",
        "model.eval()\n",
        "classes = utils.load_classes(class_path)\n",
        "Tensor = torch.cuda.FloatTensor"
      ],
      "execution_count": 659,
      "outputs": [
        {
          "output_type": "stream",
          "text": [
            "/usr/local/lib/python3.7/dist-packages/torch/nn/_reduction.py:44: UserWarning: size_average and reduce args will be deprecated, please use reduction='mean' instead.\n",
            "  warnings.warn(warning.format(ret))\n"
          ],
          "name": "stderr"
        }
      ]
    },
    {
      "cell_type": "code",
      "metadata": {
        "colab": {
          "base_uri": "https://localhost:8080/"
        },
        "id": "Gfbd_AqMdnD2",
        "outputId": "509ba7f8-53a9-44cd-82a5-3a0bcb8b0079"
      },
      "source": [
        "video_link = input('Enter the youtube video link: ')\r\n",
        "local_path = download_from_yt(video_link)\r\n",
        "\r\n",
        "# https://www.youtube.com/watch?v=MNn9qKG2UFI&list=PLcQZGj9lFR7y5WikozDSrdk6UCtAnM9mB&index=2&ab_channel=KarolMajek\r\n",
        "# https://www.youtube.com/watch?v=GJNjaRJWVP8&ab_channel=CCTVPeople\r\n",
        "# https://www.youtube.com/watch?v=jjlBnrzSGjc&ab_channel=Panasonicsecurity"
      ],
      "execution_count": 660,
      "outputs": [
        {
          "output_type": "stream",
          "text": [
            "Enter the youtube video link: https://www.youtube.com/watch?v=jjlBnrzSGjc&ab_channel=Panasonicsecurity\n"
          ],
          "name": "stdout"
        }
      ]
    },
    {
      "cell_type": "code",
      "metadata": {
        "id": "KNHCVaN0mfZh"
      },
      "source": [
        "insight_df = pd.DataFrame([], columns=class_list[0:9])\n",
        "len(insight_df.columns)\n",
        "\n",
        "output_vid_path = detector(local_path,\n",
        "                         num_frames=-1,  # set as -1 for all frames\n",
        "                         save_video=True, \n",
        "                         save_video_path=\"output_1.mp4\", \n",
        "                         df=insight_df)\n",
        "\n",
        "player(output_vid_path)"
      ],
      "execution_count": null,
      "outputs": []
    },
    {
      "cell_type": "code",
      "metadata": {
        "colab": {
          "base_uri": "https://localhost:8080/",
          "height": 419
        },
        "id": "9LbDVKnby7R8",
        "outputId": "37babd04-0edb-4394-f970-b6a38edf3edb"
      },
      "source": [
        "insight_df"
      ],
      "execution_count": 662,
      "outputs": [
        {
          "output_type": "execute_result",
          "data": {
            "text/html": [
              "<div>\n",
              "<style scoped>\n",
              "    .dataframe tbody tr th:only-of-type {\n",
              "        vertical-align: middle;\n",
              "    }\n",
              "\n",
              "    .dataframe tbody tr th {\n",
              "        vertical-align: top;\n",
              "    }\n",
              "\n",
              "    .dataframe thead th {\n",
              "        text-align: right;\n",
              "    }\n",
              "</style>\n",
              "<table border=\"1\" class=\"dataframe\">\n",
              "  <thead>\n",
              "    <tr style=\"text-align: right;\">\n",
              "      <th></th>\n",
              "      <th>person</th>\n",
              "      <th>bicycle</th>\n",
              "      <th>car</th>\n",
              "      <th>motorbike</th>\n",
              "      <th>aeroplane</th>\n",
              "      <th>bus</th>\n",
              "      <th>train</th>\n",
              "      <th>truck</th>\n",
              "      <th>boat</th>\n",
              "    </tr>\n",
              "  </thead>\n",
              "  <tbody>\n",
              "    <tr>\n",
              "      <th>0</th>\n",
              "      <td>0</td>\n",
              "      <td>0</td>\n",
              "      <td>0</td>\n",
              "      <td>0</td>\n",
              "      <td>0</td>\n",
              "      <td>0</td>\n",
              "      <td>0</td>\n",
              "      <td>0</td>\n",
              "      <td>0</td>\n",
              "    </tr>\n",
              "    <tr>\n",
              "      <th>1</th>\n",
              "      <td>0</td>\n",
              "      <td>0</td>\n",
              "      <td>0</td>\n",
              "      <td>0</td>\n",
              "      <td>0</td>\n",
              "      <td>0</td>\n",
              "      <td>0</td>\n",
              "      <td>0</td>\n",
              "      <td>0</td>\n",
              "    </tr>\n",
              "    <tr>\n",
              "      <th>2</th>\n",
              "      <td>0</td>\n",
              "      <td>0</td>\n",
              "      <td>0</td>\n",
              "      <td>0</td>\n",
              "      <td>0</td>\n",
              "      <td>0</td>\n",
              "      <td>0</td>\n",
              "      <td>0</td>\n",
              "      <td>0</td>\n",
              "    </tr>\n",
              "    <tr>\n",
              "      <th>3</th>\n",
              "      <td>0</td>\n",
              "      <td>0</td>\n",
              "      <td>0</td>\n",
              "      <td>0</td>\n",
              "      <td>0</td>\n",
              "      <td>0</td>\n",
              "      <td>0</td>\n",
              "      <td>0</td>\n",
              "      <td>0</td>\n",
              "    </tr>\n",
              "    <tr>\n",
              "      <th>4</th>\n",
              "      <td>0</td>\n",
              "      <td>0</td>\n",
              "      <td>0</td>\n",
              "      <td>0</td>\n",
              "      <td>0</td>\n",
              "      <td>0</td>\n",
              "      <td>0</td>\n",
              "      <td>0</td>\n",
              "      <td>0</td>\n",
              "    </tr>\n",
              "    <tr>\n",
              "      <th>...</th>\n",
              "      <td>...</td>\n",
              "      <td>...</td>\n",
              "      <td>...</td>\n",
              "      <td>...</td>\n",
              "      <td>...</td>\n",
              "      <td>...</td>\n",
              "      <td>...</td>\n",
              "      <td>...</td>\n",
              "      <td>...</td>\n",
              "    </tr>\n",
              "    <tr>\n",
              "      <th>2643</th>\n",
              "      <td>0</td>\n",
              "      <td>0</td>\n",
              "      <td>15</td>\n",
              "      <td>0</td>\n",
              "      <td>0</td>\n",
              "      <td>0</td>\n",
              "      <td>0</td>\n",
              "      <td>1</td>\n",
              "      <td>0</td>\n",
              "    </tr>\n",
              "    <tr>\n",
              "      <th>2644</th>\n",
              "      <td>0</td>\n",
              "      <td>0</td>\n",
              "      <td>15</td>\n",
              "      <td>0</td>\n",
              "      <td>0</td>\n",
              "      <td>0</td>\n",
              "      <td>0</td>\n",
              "      <td>1</td>\n",
              "      <td>0</td>\n",
              "    </tr>\n",
              "    <tr>\n",
              "      <th>2645</th>\n",
              "      <td>0</td>\n",
              "      <td>0</td>\n",
              "      <td>15</td>\n",
              "      <td>0</td>\n",
              "      <td>0</td>\n",
              "      <td>0</td>\n",
              "      <td>0</td>\n",
              "      <td>1</td>\n",
              "      <td>0</td>\n",
              "    </tr>\n",
              "    <tr>\n",
              "      <th>2646</th>\n",
              "      <td>0</td>\n",
              "      <td>0</td>\n",
              "      <td>16</td>\n",
              "      <td>0</td>\n",
              "      <td>0</td>\n",
              "      <td>0</td>\n",
              "      <td>0</td>\n",
              "      <td>1</td>\n",
              "      <td>0</td>\n",
              "    </tr>\n",
              "    <tr>\n",
              "      <th>2647</th>\n",
              "      <td>0</td>\n",
              "      <td>0</td>\n",
              "      <td>16</td>\n",
              "      <td>0</td>\n",
              "      <td>0</td>\n",
              "      <td>0</td>\n",
              "      <td>0</td>\n",
              "      <td>1</td>\n",
              "      <td>0</td>\n",
              "    </tr>\n",
              "  </tbody>\n",
              "</table>\n",
              "<p>2648 rows × 9 columns</p>\n",
              "</div>"
            ],
            "text/plain": [
              "     person bicycle car motorbike aeroplane bus train truck boat\n",
              "0         0       0   0         0         0   0     0     0    0\n",
              "1         0       0   0         0         0   0     0     0    0\n",
              "2         0       0   0         0         0   0     0     0    0\n",
              "3         0       0   0         0         0   0     0     0    0\n",
              "4         0       0   0         0         0   0     0     0    0\n",
              "...     ...     ...  ..       ...       ...  ..   ...   ...  ...\n",
              "2643      0       0  15         0         0   0     0     1    0\n",
              "2644      0       0  15         0         0   0     0     1    0\n",
              "2645      0       0  15         0         0   0     0     1    0\n",
              "2646      0       0  16         0         0   0     0     1    0\n",
              "2647      0       0  16         0         0   0     0     1    0\n",
              "\n",
              "[2648 rows x 9 columns]"
            ]
          },
          "metadata": {
            "tags": []
          },
          "execution_count": 662
        }
      ]
    },
    {
      "cell_type": "code",
      "metadata": {
        "id": "Zhc9zRYwis16"
      },
      "source": [
        "def count_total_unique_instances(df, class_list):\r\n",
        "    tot_counts=[]\r\n",
        "    ret_dict={}\r\n",
        "\r\n",
        "    for i in class_list: \r\n",
        "        ret_dict[\"total unique \"+i+\"s\"]=None\r\n",
        "\r\n",
        "    for c in class_list:\r\n",
        "        all_instances=list(insight_df[c])\r\n",
        "        count=0\r\n",
        "        for i in range(1,len(all_instances)):\r\n",
        "            if all_instances[i]>all_instances[i-1]:\r\n",
        "                count+=1\r\n",
        "        tot_counts.append(count)\r\n",
        "\r\n",
        "    for i in range(len(tot_counts)):\r\n",
        "        ret_dict[list(ret_dict.keys())[i]]=tot_counts[i]\r\n",
        "\r\n",
        "    return(ret_dict)"
      ],
      "execution_count": 663,
      "outputs": []
    },
    {
      "cell_type": "code",
      "metadata": {
        "id": "E8iZ7AEx_F7y"
      },
      "source": [
        "def visualize_classes(df, class_list, denoise, save_image, show, image_name): \r\n",
        "    n = 20 # the larger n is, the smoother curve will be in case denoise = True\r\n",
        "    b = [1.0 / n] * n\r\n",
        "    a = 1\r\n",
        "\r\n",
        "    plt.rcParams['figure.figsize'] =10, 5\r\n",
        "    plt.xlabel(\"frame number\", fontsize = 15)\r\n",
        "    plt.ylabel(\"count\", fontsize = 15)\r\n",
        "\r\n",
        "    all_arr=[]\r\n",
        "    for c in class_list:\r\n",
        "        arr=list(df[c])\r\n",
        "        all_arr.append(arr)\r\n",
        "        \r\n",
        "    for i in range(len(all_arr)):\r\n",
        "        if denoise:\r\n",
        "            plt.plot(lfilter(b,a,all_arr[i]), label=\"count - \"+class_list[i])\r\n",
        "        else:\r\n",
        "            plt.plot(all_arr[i], label=\"count - \"+class_list[i])\r\n",
        "\r\n",
        "    plt.grid()\r\n",
        "    plt.legend(loc=\"upper left\", numpoints=1)\r\n",
        "    #plt.legend(loc=\"best\")\r\n",
        "    if show:\r\n",
        "        plt.show()\r\n",
        "    if save_image:\r\n",
        "        plt.savefig(image_name)\r\n",
        "        plt.clf()\r\n",
        "\r\n",
        "def plot_total_instances(df, class_list, save_image, image_name):\r\n",
        "    dict_tots=count_total_unique_instances(insight_df, class_list)\r\n",
        "\r\n",
        "    plt.rcParams['figure.figsize'] =10, 5\r\n",
        "    width = 0.50\r\n",
        "    labels=list(dict_tots.keys())\r\n",
        "    ind = np.arange(len(list(dict_tots.keys())))\r\n",
        "    plt.bar(ind, list(dict_tots.values()), width, label=\"Total unique instances\", color='green', alpha=0.5)\r\n",
        "    plt.xticks(ind, labels, rotation='vertical', fontsize=10)\r\n",
        "    plt.ylabel('Number of unique instances', fontsize=15)\r\n",
        "    plt.xlabel(\"Classes\", fontsize=15)\r\n",
        "    plt.grid(True)\r\n",
        "    plt.legend(loc='best')\r\n",
        "    if save_image:\r\n",
        "        plt.savefig(image_name)\r\n",
        "        \r\n",
        "    else:\r\n",
        "        plt.show()"
      ],
      "execution_count": 744,
      "outputs": []
    },
    {
      "cell_type": "code",
      "metadata": {
        "colab": {
          "base_uri": "https://localhost:8080/",
          "height": 357
        },
        "id": "3ErrNv-TAGSG",
        "outputId": "c3bf1d62-a34e-4ee3-99ce-753e74c1e43b"
      },
      "source": [
        "visualize_classes(insight_df,\r\n",
        "                  [\"car\", \"truck\", \"person\", \"motorbike\"], \r\n",
        "                  denoise=True, \r\n",
        "                  save_image=True,\r\n",
        "                  show=True,\r\n",
        "                  image_name=\"count_vs_frame_plot.png\")"
      ],
      "execution_count": 745,
      "outputs": [
        {
          "output_type": "display_data",
          "data": {
            "image/png": "[encoded data removed]",
            "text/plain": [
              "<Figure size 720x360 with 1 Axes>"
            ]
          },
          "metadata": {
            "tags": [],
            "needs_background": "light"
          }
        },
        {
          "output_type": "display_data",
          "data": {
            "text/plain": [
              "<Figure size 720x360 with 0 Axes>"
            ]
          },
          "metadata": {
            "tags": []
          }
        }
      ]
    },
    {
      "cell_type": "code",
      "metadata": {
        "colab": {
          "base_uri": "https://localhost:8080/",
          "height": 448
        },
        "id": "OiNHV-1qWzes",
        "outputId": "a5e79023-d133-43a0-d85e-e985003feb91"
      },
      "source": [
        "plot_total_instances(insight_df,\r\n",
        "                     [\"car\", \"truck\", \"person\", \"motorbike\"],\r\n",
        "                     save_image=True,\r\n",
        "                     image_name=\"bar_plot.png\")"
      ],
      "execution_count": 746,
      "outputs": [
        {
          "output_type": "display_data",
          "data": {
            "image/png": "[encoded data removed]",
            "text/plain": [
              "<Figure size 720x360 with 1 Axes>"
            ]
          },
          "metadata": {
            "tags": [],
            "needs_background": "light"
          }
        }
      ]
    },
    {
      "cell_type": "code",
      "metadata": {
        "id": "aClyBy9S81tC"
      },
      "source": [
        "!mkdir plots"
      ],
      "execution_count": null,
      "outputs": []
    },
    {
      "cell_type": "code",
      "metadata": {
        "id": "g1RBpIe6xRjl"
      },
      "source": [
        "#save progressive plots\r\n",
        "!rm -r /content/plots/*\r\n",
        "\r\n",
        "for i in tnrange(500, 560):#len(insight_df)):\r\n",
        "    visualize_classes(insight_df[1:i],\r\n",
        "                  [\"car\", \"truck\", \"person\", \"motorbike\"], \r\n",
        "                  denoise=True, \r\n",
        "                  save_image=True,\r\n",
        "                  show=False,\r\n",
        "                  image_name=\"/content/plots/count_vs_frame_plot_\"+str(i)+\".png\")"
      ],
      "execution_count": null,
      "outputs": []
    },
    {
      "cell_type": "code",
      "metadata": {
        "id": "kf8QNVmX8oAw"
      },
      "source": [
        ""
      ],
      "execution_count": null,
      "outputs": []
    }
  ]
}